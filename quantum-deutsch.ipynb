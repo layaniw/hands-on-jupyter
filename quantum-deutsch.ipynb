{
 "cells": [
  {
   "cell_type": "markdown",
   "id": "82b0f084-81aa-4123-9cdb-e862a4b56bca",
   "metadata": {},
   "source": [
    " # Quantum Computing"
   ]
  },
  {
   "cell_type": "markdown",
   "id": "5a53709b-2f47-4907-a842-acd0888a01a5",
   "metadata": {},
   "source": [
    "<img src=https://azurecomcdn.azureedge.net/cvt-77f94256f1c090f65c1a7a723791f2b6776f142767230e7a53a61deadacd009a/images/page/overview/what-is-quantum-computing/quantum-use-cases.jpg width=\"500\">"
   ]
  },
  {
   "cell_type": "markdown",
   "id": "700fde5d-d1f9-47c9-8229-da11f050c436",
   "metadata": {},
   "source": [
    "Quantum Computing is an area in computing where quantum physics is utilised to solve complex computational issues. In Physics, the word quantum refers to the smallest physical unit."
   ]
  },
  {
   "cell_type": "markdown",
   "id": "c297835b-54bb-4749-b263-9573109fc655",
   "metadata": {},
   "source": [
    "In computations, a quantum computer uses qubits, also known as quantum bits, whereas classical computers use bits. A qubit can be both 1 & 0 or either of those, whereas a bit can be only 1 or 0 at a time. Classical computers used in day to day tasks may lack computational powers to solve complex problems where quantum computers come to the rescue. Adding more transistors to a classical computer only increases the computational power linearly, whereas more qubits linked together increases power exponentially."
   ]
  },
  {
   "cell_type": "markdown",
   "id": "d1212077-7e3e-42cc-8ebc-b96e365ec943",
   "metadata": {},
   "source": [
    "The concepts of quantum physics which are utilised in quantum computing are"
   ]
  },
  {
   "cell_type": "markdown",
   "id": "c701ece5-6f5f-4283-802a-be1ca3889259",
   "metadata": {},
   "source": [
    "<b>1. Superposition:</b> Unlike a bit, a qubit can exist in a combination of all possible states of 1 and 0 at the same time until it is finally observed. This capability of a qubit helps a quantum computer increase its computational power because a qubit can take all computational paths simultaneously. Researchers use microwave beams or lasers to achieve this."
   ]
  },
  {
   "cell_type": "markdown",
   "id": "a5265b5c-b97a-4d90-a892-eeda1a0438d7",
   "metadata": {},
   "source": [
    "<b>2. Entanglement:</b> When two qubits are entangled together, they form a single system and become correlated. Entanglement helps quantum computers by increasing computational power in solving complex problems since one qubit helps predict details of the entangled qubit."
   ]
  },
  {
   "cell_type": "markdown",
   "id": "c195e218-f447-4877-bdca-2759b23a3abc",
   "metadata": {},
   "source": [
    "<b>3. Interference:</b> Interference provides the ability to bias the measurement of a qubit to the desired state. This is allowed due to the superposition of a qubit. "
   ]
  },
  {
   "cell_type": "code",
   "execution_count": null,
   "id": "7c3f2579-5141-45ca-8e06-d8bf3da99f73",
   "metadata": {},
   "outputs": [],
   "source": []
  }
 ],
 "metadata": {
  "kernelspec": {
   "display_name": "Python 3 (ipykernel)",
   "language": "python",
   "name": "python3"
  },
  "language_info": {
   "codemirror_mode": {
    "name": "ipython",
    "version": 3
   },
   "file_extension": ".py",
   "mimetype": "text/x-python",
   "name": "python",
   "nbconvert_exporter": "python",
   "pygments_lexer": "ipython3",
   "version": "3.9.7"
  }
 },
 "nbformat": 4,
 "nbformat_minor": 5
}
