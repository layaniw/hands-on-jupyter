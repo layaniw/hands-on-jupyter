{
 "cells": [
  {
   "cell_type": "markdown",
   "id": "82b0f084-81aa-4123-9cdb-e862a4b56bca",
   "metadata": {},
   "source": [
    " # Quantum Computing"
   ]
  },
  {
   "cell_type": "markdown",
   "id": "5a53709b-2f47-4907-a842-acd0888a01a5",
   "metadata": {},
   "source": [
    "<img src=https://azurecomcdn.azureedge.net/cvt-77f94256f1c090f65c1a7a723791f2b6776f142767230e7a53a61deadacd009a/images/page/overview/what-is-quantum-computing/quantum-use-cases.jpg width=\"500\">"
   ]
  },
  {
   "cell_type": "markdown",
   "id": "700fde5d-d1f9-47c9-8229-da11f050c436",
   "metadata": {},
   "source": [
    "Quantum Computing is an area in computing where quantum physics is utilised to solve complex computational issues. In Physics, the word quantum refers to the smallest physical unit."
   ]
  },
  {
   "cell_type": "markdown",
   "id": "c297835b-54bb-4749-b263-9573109fc655",
   "metadata": {},
   "source": [
    "In computations, a quantum computer uses qubits, also known as quantum bits, whereas classical computers use bits. A qubit can be both 1 & 0 or either of those, whereas a bit can be only 1 or 0 at a time. Classical computers used in day to day tasks may lack computational powers to solve complex problems where quantum computers come to the rescue. Adding more transistors to a classical computer only increases the computational power linearly, whereas more qubits linked together increases power exponentially."
   ]
  },
  {
   "cell_type": "markdown",
   "id": "d1212077-7e3e-42cc-8ebc-b96e365ec943",
   "metadata": {},
   "source": [
    "A quantum computer works with the help of concepts of quantum physics such as,"
   ]
  },
  {
   "cell_type": "markdown",
   "id": "c701ece5-6f5f-4283-802a-be1ca3889259",
   "metadata": {},
   "source": [
    "<b>1. Superposition:</b> Unlike a bit, a qubit can exist in a combination of all possible states of 1 and 0 at the same time until it is finally observed. This capability of a qubit helps a quantum computer increase its computational power because a qubit can take all computational paths simultaneously. Researchers use microwave beams or lasers to achieve this."
   ]
  },
  {
   "cell_type": "markdown",
   "id": "a5265b5c-b97a-4d90-a892-eeda1a0438d7",
   "metadata": {},
   "source": [
    "<b>2. Entanglement:</b> When two qubits are entangled together, they form a single system and become correlated. Entanglement helps quantum computers by increasing computational power in solving complex problems since one qubit helps predict details of the entangled qubit."
   ]
  },
  {
   "cell_type": "markdown",
   "id": "c195e218-f447-4877-bdca-2759b23a3abc",
   "metadata": {},
   "source": [
    "<b>3. Interference:</b> Interference provides the ability to bias the measurement of a qubit to the desired state. This is allowed due to the superposition of a qubit. "
   ]
  },
  {
   "cell_type": "markdown",
   "id": "991cc668-6fff-4a36-8487-664fd60883dc",
   "metadata": {},
   "source": [
    "***"
   ]
  },
  {
   "cell_type": "markdown",
   "id": "2442e6cb-4b02-44b4-b14e-6b5d33b9a262",
   "metadata": {},
   "source": [
    " # Deutsch's Algorithm"
   ]
  },
  {
   "cell_type": "markdown",
   "id": "a0880f7b-56e0-4806-996c-01a65416233f",
   "metadata": {},
   "source": [
    "Deutsch's algorithm is considered the first to show how different a quantum computer computes from a classical computer. "
   ]
  },
  {
   "cell_type": "markdown",
   "id": "57f053e9-9cc5-4051-9867-861758154cdb",
   "metadata": {},
   "source": [
    "***Problem Definition***"
   ]
  },
  {
   "cell_type": "markdown",
   "id": "e61076bb-ebda-44e6-82ce-f9dc4dc8f4e8",
   "metadata": {},
   "source": [
    "f is a function that takes 0 or 1 as the input and returns 0 or 1 as the output. Moreover, it could be a balanced or a constant function. A balanced function is a function that gives 0 as the output for half the time and 1 for the other half. A constant function is a function that gives the same output for any input, which can be either 0 or 1. "
   ]
  },
  {
   "cell_type": "markdown",
   "id": "8a50be52-4df7-4247-acf6-8dc98c6af936",
   "metadata": {},
   "source": [
    "f : {0,1} -> {0,1}"
   ]
  },
  {
   "cell_type": "markdown",
   "id": "35045182-054c-421b-ac25-d8f56182c466",
   "metadata": {},
   "source": [
    "- if f(0)=1, f(1)=0 it is a balanced function"
   ]
  },
  {
   "cell_type": "markdown",
   "id": "5033946d-b1f7-4b6f-9be6-3e9392961fc8",
   "metadata": {},
   "source": [
    "- if f(0)=0, f(1)=1 it is a balanced function"
   ]
  },
  {
   "cell_type": "markdown",
   "id": "bcb23b5c-ff97-4c8b-8ca4-0625aa093def",
   "metadata": {},
   "source": [
    "- if f(0)=1, f(1)=1 it is a constant function"
   ]
  },
  {
   "cell_type": "markdown",
   "id": "193fdd24-8e64-4f22-864b-7d75d387bbb8",
   "metadata": {},
   "source": [
    "- if f(0)=0, f(1)=0 it is a constant function"
   ]
  },
  {
   "cell_type": "markdown",
   "id": "27c4e955-72b7-4caf-86fa-35aca82594c9",
   "metadata": {},
   "source": [
    "The aim is to find whether a function is a constant or a balanced function. "
   ]
  },
  {
   "cell_type": "markdown",
   "id": "effed706-2df1-4442-88e3-5d5c2efd3eb8",
   "metadata": {},
   "source": [
    "***Classical Solution***"
   ]
  },
  {
   "cell_type": "markdown",
   "id": "ea1ff0cd-d185-4be5-b6e5-8f5224351e00",
   "metadata": {},
   "source": [
    "In a single bit instance, we must check the output twice to decide the function type. However, when the number of input bits(n) increases, it grows exponentially in the worst case. We will have to check the output $2^{n-1}$ + 1 times to decide whether a function is balanced or a constant."
   ]
  },
  {
   "cell_type": "markdown",
   "id": "919971ea-0188-40d8-931a-287d82986096",
   "metadata": {},
   "source": [
    "Deutsch's algorithm can assess this problem with one function evaluation in the quantum world."
   ]
  },
  {
   "cell_type": "markdown",
   "id": "0ab6e61d-d212-4c63-9230-d6de6fb3e60a",
   "metadata": {},
   "source": [
    "## Implementation"
   ]
  },
  {
   "cell_type": "code",
   "execution_count": 1,
   "id": "f96f09de-0a46-40ab-b817-c3c8f66aa792",
   "metadata": {},
   "outputs": [],
   "source": [
    "#import Qiskit\n",
    "import qiskit"
   ]
  },
  {
   "cell_type": "code",
   "execution_count": 2,
   "id": "3199f847-4957-4299-a882-9df1bd7bcd62",
   "metadata": {},
   "outputs": [],
   "source": [
    "import qiskit.providers.aer as aer"
   ]
  },
  {
   "cell_type": "code",
   "execution_count": null,
   "id": "eee60985-aae8-4d3b-8a85-fc5a0171ddaf",
   "metadata": {},
   "outputs": [],
   "source": [
    "\n"
   ]
  }
 ],
 "metadata": {
  "kernelspec": {
   "display_name": "Python 3 (ipykernel)",
   "language": "python",
   "name": "python3"
  },
  "language_info": {
   "codemirror_mode": {
    "name": "ipython",
    "version": 3
   },
   "file_extension": ".py",
   "mimetype": "text/x-python",
   "name": "python",
   "nbconvert_exporter": "python",
   "pygments_lexer": "ipython3",
   "version": "3.9.7"
  }
 },
 "nbformat": 4,
 "nbformat_minor": 5
}
