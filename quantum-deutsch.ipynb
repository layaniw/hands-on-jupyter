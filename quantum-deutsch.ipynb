{
 "cells": [
  {
   "cell_type": "markdown",
   "id": "82b0f084-81aa-4123-9cdb-e862a4b56bca",
   "metadata": {},
   "source": [
    " # Quantum Computing"
   ]
  },
  {
   "cell_type": "markdown",
   "id": "da1c9b88-f5f3-4b67-8e16-6473f2874121",
   "metadata": {},
   "source": [
    "<br>"
   ]
  },
  {
   "cell_type": "markdown",
   "id": "5a53709b-2f47-4907-a842-acd0888a01a5",
   "metadata": {},
   "source": [
    "<img src=https://azurecomcdn.azureedge.net/cvt-77f94256f1c090f65c1a7a723791f2b6776f142767230e7a53a61deadacd009a/images/page/overview/what-is-quantum-computing/quantum-use-cases.jpg width=\"500\" height=\"240\" align=\"center\"/>"
   ]
  },
  {
   "cell_type": "markdown",
   "id": "fc82ee0e-6df3-4d91-b600-e859c0bc2f63",
   "metadata": {},
   "source": [
    "<br>"
   ]
  },
  {
   "cell_type": "markdown",
   "id": "700fde5d-d1f9-47c9-8229-da11f050c436",
   "metadata": {},
   "source": [
    "Quantum Computing is an area in computing where quantum physics is utilised to solve complex computational issues. In Physics, the word quantum refers to the smallest physical unit."
   ]
  },
  {
   "cell_type": "markdown",
   "id": "c297835b-54bb-4749-b263-9573109fc655",
   "metadata": {},
   "source": [
    "In computations, a quantum computer uses qubits, also known as quantum bits, whereas classical computers use bits. A qubit can be both 1 & 0 or either of those, whereas a bit can be only 1 or 0 at a time. Classical computers used in day to day tasks may lack computational powers to solve complex problems where quantum computers come to the rescue. Adding more transistors to a classical computer only increases the computational power linearly, whereas more qubits linked together increases power exponentially."
   ]
  },
  {
   "cell_type": "markdown",
   "id": "d1212077-7e3e-42cc-8ebc-b96e365ec943",
   "metadata": {},
   "source": [
    "A quantum computer works with the help of concepts of quantum physics such as,"
   ]
  },
  {
   "cell_type": "markdown",
   "id": "c701ece5-6f5f-4283-802a-be1ca3889259",
   "metadata": {},
   "source": [
    "<b>1. Superposition:</b> Unlike a bit, a qubit can exist in a combination of all possible states of 1 and 0 at the same time until it is finally observed. This capability of a qubit helps a quantum computer increase its computational power because a qubit can take all computational paths simultaneously. Researchers use microwave beams or lasers to achieve this."
   ]
  },
  {
   "cell_type": "markdown",
   "id": "a5265b5c-b97a-4d90-a892-eeda1a0438d7",
   "metadata": {},
   "source": [
    "<b>2. Entanglement:</b> When two qubits are entangled together, they form a single system and become correlated. Entanglement helps quantum computers by increasing computational power in solving complex problems since one qubit helps predict details of the entangled qubit."
   ]
  },
  {
   "cell_type": "markdown",
   "id": "c195e218-f447-4877-bdca-2759b23a3abc",
   "metadata": {},
   "source": [
    "<b>3. Interference:</b> Interference provides the ability to bias the measurement of a qubit to the desired state. This is allowed due to the superposition of a qubit. "
   ]
  },
  {
   "cell_type": "markdown",
   "id": "991cc668-6fff-4a36-8487-664fd60883dc",
   "metadata": {},
   "source": [
    "***"
   ]
  },
  {
   "cell_type": "markdown",
   "id": "1bbf383f-522a-4340-b5b6-c46941a111db",
   "metadata": {},
   "source": [
    "<br>"
   ]
  },
  {
   "cell_type": "markdown",
   "id": "2442e6cb-4b02-44b4-b14e-6b5d33b9a262",
   "metadata": {},
   "source": [
    " # Deutsch's Algorithm"
   ]
  },
  {
   "cell_type": "markdown",
   "id": "a0880f7b-56e0-4806-996c-01a65416233f",
   "metadata": {},
   "source": [
    "Deutsch's algorithm is considered the first to show how different a quantum computer computes from a classical computer. "
   ]
  },
  {
   "cell_type": "markdown",
   "id": "57f053e9-9cc5-4051-9867-861758154cdb",
   "metadata": {},
   "source": [
    "***Problem Definition***"
   ]
  },
  {
   "cell_type": "markdown",
   "id": "e61076bb-ebda-44e6-82ce-f9dc4dc8f4e8",
   "metadata": {},
   "source": [
    "f is a function that takes 0 or 1 as the input and returns 0 or 1 as the output. Moreover, it could be a balanced or a constant function. A balanced function is a function that gives 0 as the output for half the time and 1 for the other half. A constant function is a function that gives the same output for any input, which can be either 0 or 1. "
   ]
  },
  {
   "cell_type": "markdown",
   "id": "b77fbf9c-d811-4c62-9b5c-e970cf998c21",
   "metadata": {},
   "source": [
    "$f : {0,1}\\rightarrow {0,1} $"
   ]
  },
  {
   "cell_type": "markdown",
   "id": "35045182-054c-421b-ac25-d8f56182c466",
   "metadata": {},
   "source": [
    "- if $ f(0)=1, f(1)=0 $ it is a balanced function"
   ]
  },
  {
   "cell_type": "markdown",
   "id": "5033946d-b1f7-4b6f-9be6-3e9392961fc8",
   "metadata": {},
   "source": [
    "- if $f(0)=0, f(1)=1 $it is a balanced function"
   ]
  },
  {
   "cell_type": "markdown",
   "id": "bcb23b5c-ff97-4c8b-8ca4-0625aa093def",
   "metadata": {},
   "source": [
    "- if $f(0)=1, f(1)=1 $ it is a constant function"
   ]
  },
  {
   "cell_type": "markdown",
   "id": "193fdd24-8e64-4f22-864b-7d75d387bbb8",
   "metadata": {},
   "source": [
    "- if $f(0)=0, f(1)=0 $it is a constant function"
   ]
  },
  {
   "cell_type": "markdown",
   "id": "27c4e955-72b7-4caf-86fa-35aca82594c9",
   "metadata": {},
   "source": [
    "The aim is to find whether a function is a constant or a balanced function. "
   ]
  },
  {
   "cell_type": "markdown",
   "id": "effed706-2df1-4442-88e3-5d5c2efd3eb8",
   "metadata": {},
   "source": [
    "***Classical Solution***"
   ]
  },
  {
   "cell_type": "markdown",
   "id": "ea1ff0cd-d185-4be5-b6e5-8f5224351e00",
   "metadata": {},
   "source": [
    "In a single bit instance, we must check the output twice to decide the function type. However, when the number of input bits(n) increases, it grows exponentially in the worst case. We will have to check the output $2^{n-1}$ + 1 times to decide whether a function is balanced or a constant."
   ]
  },
  {
   "cell_type": "markdown",
   "id": "919971ea-0188-40d8-931a-287d82986096",
   "metadata": {},
   "source": [
    "Deutsch's algorithm can assess this problem with one function evaluation in the quantum world."
   ]
  },
  {
   "cell_type": "markdown",
   "id": "7ad11e8e-f0f8-481e-b9c0-b48f11b3f467",
   "metadata": {},
   "source": [
    "***"
   ]
  },
  {
   "cell_type": "markdown",
   "id": "0ab6e61d-d212-4c63-9230-d6de6fb3e60a",
   "metadata": {},
   "source": [
    "## Implementation"
   ]
  },
  {
   "cell_type": "markdown",
   "id": "75dd6d59-ba43-4155-84a9-8c4711beedaf",
   "metadata": {},
   "source": [
    "$f$ is a function which converts a single bit(0 or 1) to 0 or 1. "
   ]
  },
  {
   "cell_type": "markdown",
   "id": "0b03f376-4bc3-44a0-84cd-8eab94e6990a",
   "metadata": {},
   "source": [
    "|$$f(0)$$  |$$f(1)$$  |\n",
    "|----------|----------|\n",
    "|    0     |     0    |\n",
    "|    0     |     1    |\n",
    "|    1     |     0    |\n",
    "|    1     |     1    | "
   ]
  },
  {
   "cell_type": "markdown",
   "id": "c42027c4-e7f6-496c-a7aa-a216c91272c9",
   "metadata": {},
   "source": [
    "We have to decide whether $f$ is a constant or a balanced function. If $f(0) = f(1)$ it is a constant function. Else it is a balanced function. "
   ]
  },
  {
   "cell_type": "markdown",
   "id": "1ef7e6d1-5c7f-4dc4-9b97-b4fb557ac31c",
   "metadata": {},
   "source": [
    "If the function is a constant function the oracle will return 0 and if it is a balanced function it will return 1 always. This is equivalent to XOR performed on $ f(0) $ and $ f(1) $."
   ]
  },
  {
   "cell_type": "markdown",
   "id": "9147100d-0a66-4248-905e-ad0c28e64b5b",
   "metadata": {},
   "source": [
    "|$$f(0)$$  |$$f(1)$$  |$$f(0){\\oplus}f(1)$$|         |\n",
    "|----------|----------|--------------------|---------|\n",
    "|    0     |     1    |       1            |Balanced\n",
    "|    1     |     0    |       1            |Balanced\n",
    "|    1     |     1    |       0            |Constant\n",
    "|    0     |     0    |       0            |Constant"
   ]
  },
  {
   "cell_type": "markdown",
   "id": "7de0717e-421b-4ea8-8f80-fa9e077e5a11",
   "metadata": {},
   "source": [
    "If $U_f$ is the oracle it is as follows."
   ]
  },
  {
   "cell_type": "markdown",
   "id": "c2a73565-9473-40b9-aa60-632df96dca25",
   "metadata": {},
   "source": [
    "$U_f :|x\\rangle|y\\rangle \\rightarrow |x\\rangle|y { \\oplus} f(x)\\rangle$"
   ]
  },
  {
   "cell_type": "markdown",
   "id": "9ebda1fe-6119-4ba3-ae91-4c783571b78a",
   "metadata": {},
   "source": [
    "***"
   ]
  },
  {
   "cell_type": "markdown",
   "id": "0ce8ec21-53c8-4d99-b2ec-629e7788a7a1",
   "metadata": {},
   "source": [
    "<br>"
   ]
  },
  {
   "cell_type": "markdown",
   "id": "66dc2678-22a3-4c56-9452-5b2e776fdbf6",
   "metadata": {},
   "source": [
    "## Function Oracles and the Use of Gates"
   ]
  },
  {
   "cell_type": "markdown",
   "id": "ba453a3a-e146-4da8-b938-1f08289099ac",
   "metadata": {},
   "source": [
    "### Balanced Function $f(0)=0$ and $f(1)=1$ "
   ]
  },
  {
   "cell_type": "markdown",
   "id": "62e9f7d0-7e2c-4fb0-a44b-6fc1d9a9d624",
   "metadata": {},
   "source": [
    "$|01\\rangle = \\begin{bmatrix} 0 \\\\ 1 \\\\ 0 \\\\ 0 \\end{bmatrix} \\begin{matrix}|00\\rangle\\\\|01\\rangle\\\\|10\\rangle\\\\|11\\rangle \\end{matrix}$"
   ]
  },
  {
   "cell_type": "markdown",
   "id": "26f04223-708e-4f8b-894f-6800d509808a",
   "metadata": {},
   "source": [
    "$|x\\rangle|y\\rangle \\rightarrow |x\\rangle|y { \\oplus} f(x)\\rangle$"
   ]
  },
  {
   "cell_type": "markdown",
   "id": "6d4f619c-58d1-4da3-a332-3379daabcdc7",
   "metadata": {},
   "source": [
    "$\\begin{matrix}|00\\rangle\\\\|01\\rangle\\\\|10\\rangle\\\\|11\\rangle  \\end{matrix} \\rightarrow \\begin{matrix}|00\\rangle\\\\|01\\rangle\\\\|11\\rangle\\\\|10\\rangle \\end{matrix} $"
   ]
  },
  {
   "cell_type": "markdown",
   "id": "2679e1e7-6d84-4d18-a224-8092eeb2e4dc",
   "metadata": {},
   "source": [
    "The swapping of probability amplitudes in last two bits can be done using a CNOT gate."
   ]
  },
  {
   "cell_type": "markdown",
   "id": "7a5e3d2e-88b4-4eba-8736-2b83d7b2522b",
   "metadata": {},
   "source": [
    "### Constant Function $f(0)=1$ and $f(1)=1$ "
   ]
  },
  {
   "cell_type": "markdown",
   "id": "6a68e5af-accf-4e95-a45a-d03582513b8b",
   "metadata": {},
   "source": [
    "$|x\\rangle|y\\rangle \\rightarrow |x\\rangle|y { \\oplus} f(x)\\rangle$"
   ]
  },
  {
   "cell_type": "markdown",
   "id": "e7b6b757-4410-44ab-a7fa-f272d5917251",
   "metadata": {},
   "source": [
    "$\\begin{matrix}|00\\rangle\\\\|01\\rangle\\\\|10\\rangle\\\\|11\\rangle  \\end{matrix} \\rightarrow \\begin{matrix}|01\\rangle\\\\|00\\rangle\\\\|11\\rangle\\\\|10\\rangle \\end{matrix} $"
   ]
  },
  {
   "cell_type": "markdown",
   "id": "952ec788-dc7a-4c7b-b365-b4c7f52d84ab",
   "metadata": {},
   "source": [
    "The swapping of y bit can be done using a X gate. "
   ]
  },
  {
   "cell_type": "markdown",
   "id": "ae81d13c-a9f1-418e-9337-5ae2c2a7b5e7",
   "metadata": {},
   "source": [
    "### Constant Function $f(0)=0$ and $f(1)=0$ "
   ]
  },
  {
   "cell_type": "markdown",
   "id": "79a4ae35-02b8-4829-9272-6420d95f7dee",
   "metadata": {},
   "source": [
    "$|x\\rangle|y\\rangle \\rightarrow |x\\rangle|y { \\oplus} f(x)\\rangle$"
   ]
  },
  {
   "cell_type": "markdown",
   "id": "ebd01e5b-3983-4bc4-9c18-148b5aae4fc0",
   "metadata": {},
   "source": [
    "$\\begin{matrix}|00\\rangle\\\\|01\\rangle\\\\|10\\rangle\\\\|11\\rangle  \\end{matrix} \\rightarrow \\begin{matrix}|00\\rangle\\\\|01\\rangle\\\\|10\\rangle\\\\|11\\rangle  \\end{matrix} $"
   ]
  },
  {
   "cell_type": "markdown",
   "id": "47325d78-2d9c-49d3-a282-685ead4138ae",
   "metadata": {},
   "source": [
    "Since y bit remains the same Identity matrix can be used here."
   ]
  },
  {
   "cell_type": "markdown",
   "id": "7c1402d7-5dc3-4fab-999d-1af1f16ef006",
   "metadata": {},
   "source": [
    "### Balanced Function $f(0)=1$ and $f(1)=0$ "
   ]
  },
  {
   "cell_type": "markdown",
   "id": "ac3a03fd-f9e8-438c-a8f0-230e68928c54",
   "metadata": {},
   "source": [
    "$|x\\rangle|y\\rangle \\rightarrow |x\\rangle|y { \\oplus} f(x)\\rangle$"
   ]
  },
  {
   "cell_type": "markdown",
   "id": "cb2e97a8-d144-49d8-90e1-2d988783c53a",
   "metadata": {},
   "source": [
    "$\\begin{matrix}|00\\rangle\\\\|01\\rangle\\\\|10\\rangle\\\\|11\\rangle  \\end{matrix} \\rightarrow \\begin{matrix}|01\\rangle\\\\|00\\rangle\\\\|10\\rangle\\\\|11\\rangle  \\end{matrix} $"
   ]
  },
  {
   "cell_type": "markdown",
   "id": "0ce2b373-d780-446c-97c9-65131adf4e69",
   "metadata": {},
   "source": [
    "This can be achieved by applying a CNOT gate and then a X gate. "
   ]
  },
  {
   "cell_type": "markdown",
   "id": "00189222-deb1-45f1-973e-3a8f4e04e747",
   "metadata": {},
   "source": [
    "***"
   ]
  },
  {
   "cell_type": "markdown",
   "id": "6c0a2128-489a-434d-8d69-23034753e91f",
   "metadata": {},
   "source": [
    "<br>"
   ]
  },
  {
   "cell_type": "markdown",
   "id": "4df677df-fd2a-4499-a0e6-c3d6f1bb3014",
   "metadata": {},
   "source": [
    "## Gates"
   ]
  },
  {
   "cell_type": "markdown",
   "id": "4c3bdeca-c46c-44b8-8eb8-8615898c51fc",
   "metadata": {},
   "source": [
    "### Hadamard Gate"
   ]
  },
  {
   "cell_type": "markdown",
   "id": "415a09d6-f01f-4d61-8a1f-59a177f80203",
   "metadata": {},
   "source": [
    "When Hadamard gate applied to $|0\\rangle$ and $|1\\rangle$, "
   ]
  },
  {
   "cell_type": "markdown",
   "id": "ec048dc6-8203-43ba-b6f3-91c62c357fe1",
   "metadata": {},
   "source": [
    "$\\frac{1}{\\sqrt{2}}\\begin{bmatrix} 1 & 1 \\\\ 1 & -1 \\end{bmatrix} \\begin{bmatrix} 1 \\\\ 0 \\end{bmatrix} = \\frac{1}{\\sqrt{2}}\\begin{bmatrix} 1 \\\\ 1 \\end{bmatrix} $"
   ]
  },
  {
   "cell_type": "markdown",
   "id": "69b72110-d9af-4051-b42c-4fc4cc79c833",
   "metadata": {},
   "source": [
    "$H|0\\rangle = \\frac{1}{\\sqrt{2}}(|0\\rangle + |1\\rangle) $"
   ]
  },
  {
   "cell_type": "markdown",
   "id": "05399859-2ead-4d93-92ca-153caba93270",
   "metadata": {},
   "source": [
    "chance of measuring 0 in $|0\\rangle$ state is $\\left(\\frac{1}{\\sqrt{2}}\\right) ^ 2 = \\frac{1}{2} $ and chance of measuring 1 is $\\left(\\frac{1}{\\sqrt{2}}\\right) ^ 2 = \\frac{1}{2} $"
   ]
  },
  {
   "cell_type": "markdown",
   "id": "99234401-94d0-4852-a7db-2cd521267f6d",
   "metadata": {},
   "source": [
    "$\\frac{1}{\\sqrt{2}}\\begin{bmatrix} 1 & 1 \\\\ 1 & -1 \\end{bmatrix} \\begin{bmatrix} 0 \\\\ 1\\end{bmatrix} = \\frac{1}{\\sqrt{2}}\\begin{bmatrix} 1 \\\\ -1 \\end{bmatrix} $"
   ]
  },
  {
   "cell_type": "markdown",
   "id": "3929499c-cfea-4dc9-8185-ee0f3cc641ca",
   "metadata": {},
   "source": [
    "$H|1\\rangle = \\frac{1}{\\sqrt{2}}(|0\\rangle - |1\\rangle) $"
   ]
  },
  {
   "cell_type": "markdown",
   "id": "c9a14b43-ec7c-42e2-9586-7607427bf816",
   "metadata": {},
   "source": [
    "chance of measuring 0 in $|1\\rangle$ state is $\\left(\\frac{1}{\\sqrt{2}}\\right) ^ 2 = \\frac{1}{2} $ and chance of measuring 1 is $\\left(\\frac{-1}{\\sqrt{2}}\\right) ^ 2 = \\frac{1}{2} $"
   ]
  },
  {
   "cell_type": "markdown",
   "id": "fdf241c0-126a-4ba4-abb6-dc5dddaa2755",
   "metadata": {},
   "source": [
    "Therefore Hadamard gate transforms $|0\\rangle$ and $|1\\rangle$ to superposition."
   ]
  },
  {
   "cell_type": "markdown",
   "id": "cd1afa2a-e0bb-4429-9cf8-d37f12ee20c0",
   "metadata": {},
   "source": [
    "### X Gate"
   ]
  },
  {
   "cell_type": "markdown",
   "id": "8775bb73-49b6-40f7-b333-525c9043568f",
   "metadata": {},
   "source": [
    "By applying a X gate to $|0\\rangle$ and $|1\\rangle$ , amplitudes of their states can be switched."
   ]
  },
  {
   "cell_type": "markdown",
   "id": "6873f4c0-eb4c-4dcf-9448-58b1e9d61f03",
   "metadata": {},
   "source": [
    "$ X|0\\rangle = \\begin{bmatrix} 0 & 1 \\\\1 &0 \\end{bmatrix}\\begin{bmatrix} 1 \\\\ 0 \\end{bmatrix} = \\begin{bmatrix} 0\\\\ 1 \\end{bmatrix} =|1\\rangle  $"
   ]
  },
  {
   "cell_type": "markdown",
   "id": "aa7bb8d1-9f58-4d48-9fb2-b37f1429203a",
   "metadata": {},
   "source": [
    "Likewise, $ X|1\\rangle =|0\\rangle $"
   ]
  },
  {
   "cell_type": "markdown",
   "id": "29817cdb-95b5-4395-9651-644798b16462",
   "metadata": {},
   "source": [
    "### CNOT Gate"
   ]
  },
  {
   "cell_type": "markdown",
   "id": "e8da27c8-9d36-4904-a82f-8d2cddacf81c",
   "metadata": {},
   "source": [
    "CNOT gate flips the second qubit, only if first qubit is 1."
   ]
  },
  {
   "cell_type": "markdown",
   "id": "1df6b131-0e32-499c-a9d1-c7787456baa7",
   "metadata": {},
   "source": [
    "$CNOT \\times |01\\rangle =  \\begin{bmatrix} 1 & 0 & 0 & 0 \\\\ 0 & 1 & 0 & 0\\\\0 & 0 & 0 & 1\\\\0 & 0 & 1 & 0 \\end{bmatrix} \\begin{bmatrix} 0 \\\\ 1 \\\\ 0 \\\\ 0\\end{bmatrix}=\\begin{bmatrix} 0 \\\\ 1 \\\\ 0 \\\\ 0\\end{bmatrix} = |01\\rangle$"
   ]
  },
  {
   "cell_type": "markdown",
   "id": "cebc1da6-3b0d-4537-a2a8-5cf9b062d856",
   "metadata": {},
   "source": [
    "$CNOT \\times |00\\rangle =  \\begin{bmatrix} 1 & 0 & 0 & 0 \\\\ 0 & 1 & 0 & 0\\\\0 & 0 & 0 & 1\\\\0 & 0 & 1 & 0 \\end{bmatrix} \\begin{bmatrix} 1 \\\\ 0 \\\\ 0 \\\\ 0\\end{bmatrix}=\\begin{bmatrix} 1 \\\\ 0 \\\\ 0 \\\\ 0\\end{bmatrix} = |00\\rangle$"
   ]
  },
  {
   "cell_type": "markdown",
   "id": "83865d95-e80d-43bb-b695-3f5aeaaedca4",
   "metadata": {},
   "source": [
    "$CNOT \\times |10\\rangle =  \\begin{bmatrix} 1 & 0 & 0 & 0 \\\\ 0 & 1 & 0 & 0\\\\0 & 0 & 0 & 1\\\\0 & 0 & 1 & 0 \\end{bmatrix} \\begin{bmatrix}0 \\\\ 0 \\\\ 1 \\\\ 0\\end{bmatrix}=\\begin{bmatrix} 0 \\\\ 0 \\\\ 0 \\\\ 1\\end{bmatrix} = |11\\rangle$"
   ]
  },
  {
   "cell_type": "markdown",
   "id": "180b712e-4488-4251-960c-0e23c9a855ec",
   "metadata": {},
   "source": [
    "$CNOT \\times |11\\rangle =  \\begin{bmatrix} 1 & 0 & 0 & 0 \\\\ 0 & 1 & 0 & 0\\\\0 & 0 & 0 & 1\\\\0 & 0 & 1 & 0 \\end{bmatrix} \\begin{bmatrix}0 \\\\ 0 \\\\ 0 \\\\ 1\\end{bmatrix}=\\begin{bmatrix} 0 \\\\ 0 \\\\ 1 \\\\ 0\\end{bmatrix} = |10\\rangle$"
   ]
  },
  {
   "cell_type": "markdown",
   "id": "546caf65-e6fa-453e-924c-5b01b6eabe6a",
   "metadata": {},
   "source": [
    "### Hadamard Followed by CNOT"
   ]
  },
  {
   "cell_type": "markdown",
   "id": "22694e55-dcd2-4363-8af9-83a8281ac30f",
   "metadata": {},
   "source": [
    "$ H{\\oplus}H =\\frac{1}{2}\\begin{bmatrix} 1 & 1 & 1 & 1 \\\\ 1 & -1 & 1 & -1\\\\1& 1 & -1 & -1\\\\1 & -1 & -1 & 1 \\end{bmatrix}$"
   ]
  },
  {
   "cell_type": "markdown",
   "id": "cbc1a7ae-52e7-48ef-9d5c-3c2ec4810c4b",
   "metadata": {},
   "source": [
    "$CNOT \\times H{\\oplus}H \\times |10\\rangle =  \\begin{bmatrix} 1 & 0 & 0 & 0 \\\\ 0 & 1 & 0 & 0\\\\0 & 0 & 0 & 1\\\\0 & 0 & 1 & 0 \\end{bmatrix} \\frac{1}{2}\\begin{bmatrix} 1 & 1 & 1 & 1 \\\\ 1 & -1 & 1 & -1\\\\1& 1 & -1 & -1\\\\1 & -1 & -1 & 1 \\end{bmatrix}\\begin{bmatrix}0 \\\\ 0 \\\\ 1 \\\\ 0\\end{bmatrix}=\\begin{bmatrix} \\frac{1}{2} \\\\ \\frac{1}{2} \\\\ - \\frac{1}{2} \\\\ - \\frac{1}{2}\\end{bmatrix}$"
   ]
  },
  {
   "cell_type": "markdown",
   "id": "1f109895-b614-4af7-bbbb-6c78ab0cfedc",
   "metadata": {},
   "source": [
    "$CNOT \\times H{\\oplus}H \\times |01\\rangle =  \\begin{bmatrix} 1 & 0 & 0 & 0 \\\\ 0 & 1 & 0 & 0\\\\0 & 0 & 0 & 1\\\\0 & 0 & 1 & 0 \\end{bmatrix} \\frac{1}{2}\\begin{bmatrix} 1 & 1 & 1 & 1 \\\\ 1 & -1 & 1 & -1\\\\1& 1 & -1 & -1\\\\1 & -1 & -1 & 1 \\end{bmatrix}\\begin{bmatrix}0 \\\\1 \\\\ 0 \\\\ 0\\end{bmatrix}=\\begin{bmatrix} \\frac{1}{2} \\\\ -\\frac{1}{2} \\\\ - \\frac{1}{2} \\\\ \\frac{1}{2}\\end{bmatrix}$"
   ]
  },
  {
   "cell_type": "markdown",
   "id": "de8cf071-140e-4d3f-9703-1c2c14454ef7",
   "metadata": {},
   "source": [
    "***"
   ]
  },
  {
   "cell_type": "markdown",
   "id": "21051197-c910-45b7-8c93-5424ff07eaee",
   "metadata": {},
   "source": [
    "<br>"
   ]
  },
  {
   "cell_type": "code",
   "execution_count": 1,
   "id": "f96f09de-0a46-40ab-b817-c3c8f66aa792",
   "metadata": {},
   "outputs": [],
   "source": [
    "#import Qiskit\n",
    "import qiskit\n",
    "\n",
    "# Aer simulator.\n",
    "import qiskit.providers.aer as aer\n",
    "\n",
    "# Diagrams.\n",
    "import matplotlib.pyplot as plt\n",
    "\n",
    "# Change pyplot style.\n",
    "plt.style.use('ggplot')"
   ]
  },
  {
   "cell_type": "markdown",
   "id": "d76e49fc-465c-4e66-818b-d93f5b406314",
   "metadata": {},
   "source": [
    "# Constant Zero Function "
   ]
  },
  {
   "cell_type": "markdown",
   "id": "7e298d6a-e04e-48ac-9014-4ce2a4e0555c",
   "metadata": {},
   "source": [
    "### 1. Create a 2-qubit circuit"
   ]
  },
  {
   "cell_type": "code",
   "execution_count": 2,
   "id": "7320fa49-05c8-4b8b-b31e-bf5f980b1115",
   "metadata": {},
   "outputs": [
    {
     "data": {
      "image/png": "[encoded data removed]",
      "text/plain": [
       "<Figure size 263.974x368.424 with 1 Axes>"
      ]
     },
     "execution_count": 2,
     "metadata": {},
     "output_type": "execute_result"
    }
   ],
   "source": [
    "circuit = qiskit.QuantumCircuit(2, 1)\n",
    "\n",
    "# Initialise the first qubit to |0>.\n",
    "circuit.initialize([1, 0], 0)\n",
    "\n",
    "# Initialise the second qubit to |1>.\n",
    "circuit.initialize([0, 1], 1)\n",
    "\n",
    "# Draw the circuit.\n",
    "circuit.draw(output='mpl', scale=1.8)"
   ]
  },
  {
   "cell_type": "markdown",
   "id": "705eacdd-dc8b-45ac-af81-ef5ca66f095a",
   "metadata": {},
   "source": [
    "$q_0$ is set to $|0\\rangle$ and $q_1$ is set to $|1\\rangle$"
   ]
  },
  {
   "cell_type": "markdown",
   "id": "1958bd67-5904-43fa-980b-a6c807ae65f2",
   "metadata": {},
   "source": [
    "### 2. Apply a Hadamard gate to all qubits"
   ]
  },
  {
   "cell_type": "code",
   "execution_count": 3,
   "id": "a5211f3c-f83b-41c7-b619-44a2ca5def0c",
   "metadata": {},
   "outputs": [
    {
     "data": {
      "image/png": "[encoded data removed]",
      "text/plain": [
       "<Figure size 372.334x368.424 with 1 Axes>"
      ]
     },
     "execution_count": 3,
     "metadata": {},
     "output_type": "execute_result"
    }
   ],
   "source": [
    "circuit.h(0)\n",
    "circuit.h(1)\n",
    "\n",
    "# Draw the circuit.\n",
    "circuit.draw(output='mpl', scale=1.8)"
   ]
  },
  {
   "cell_type": "markdown",
   "id": "060ac47c-8d9b-4ff9-8181-17abe1065e5c",
   "metadata": {},
   "source": [
    "### 3. Apply Identity gate to second qubit and Hadamard gate to the first qubit"
   ]
  },
  {
   "cell_type": "markdown",
   "id": "13cacde5-58ce-4c8b-a309-a29e3ea7d035",
   "metadata": {},
   "source": [
    "Applying Identity matrix to second qubit will not make any effect on qubit state. Applying Hadamard gate again to first qubit will make it return to $|0\\rangle$ state again. "
   ]
  },
  {
   "cell_type": "code",
   "execution_count": 4,
   "id": "92c30141-b717-4f8f-b42a-065fc1eb7a55",
   "metadata": {},
   "outputs": [
    {
     "data": {
      "image/png": "[encoded data removed]",
      "text/plain": [
       "<Figure size 589.054x368.424 with 1 Axes>"
      ]
     },
     "execution_count": 4,
     "metadata": {},
     "output_type": "execute_result"
    }
   ],
   "source": [
    "circuit.i(1)\n",
    "circuit.h(0)\n",
    "\n",
    "# Measure the first qubit.\n",
    "circuit.measure(0, 0)\n",
    "\n",
    "# Draw the circuit.\n",
    "circuit.draw(output='mpl', scale=1.8)"
   ]
  },
  {
   "cell_type": "code",
   "execution_count": 5,
   "id": "577bbba5-8a79-4144-a79e-1640258db895",
   "metadata": {},
   "outputs": [],
   "source": [
    "# Create a simulation instance.\n",
    "simulator = aer.QasmSimulator()"
   ]
  },
  {
   "cell_type": "code",
   "execution_count": 6,
   "id": "521a55fc-8ada-4d2e-9de9-e1161934113d",
   "metadata": {},
   "outputs": [],
   "source": [
    "# Compile the circuit in the simluator.\n",
    "compcircuit = qiskit.transpile(circuit, simulator)"
   ]
  },
  {
   "cell_type": "code",
   "execution_count": 7,
   "id": "7c37ec6f-1458-4e7c-9233-9ceaaaa82677",
   "metadata": {},
   "outputs": [],
   "source": [
    "# Simulate the circuit 1000 times.\n",
    "job = simulator.run(compcircuit, shots=1000)"
   ]
  },
  {
   "cell_type": "code",
   "execution_count": 8,
   "id": "f801ba8a-8191-4d4b-96ef-2f595f313cd1",
   "metadata": {},
   "outputs": [],
   "source": [
    "# Get the results.\n",
    "results = job.result()"
   ]
  },
  {
   "cell_type": "code",
   "execution_count": 9,
   "id": "153f74b0-71c0-48eb-b8c2-159eaf4e565b",
   "metadata": {},
   "outputs": [
    {
     "data": {
      "text/plain": [
       "{'0': 1000}"
      ]
     },
     "execution_count": 9,
     "metadata": {},
     "output_type": "execute_result"
    }
   ],
   "source": [
    "# Show the result counts.\n",
    "counts = results.get_counts()\n",
    "counts"
   ]
  },
  {
   "cell_type": "code",
   "execution_count": 10,
   "id": "adb51078-d301-49b6-a6cf-b275a9ccd2d1",
   "metadata": {},
   "outputs": [
    {
     "data": {
      "image/png": "[encoded data removed]",
      "text/plain": [
       "<Figure size 72x288 with 1 Axes>"
      ]
     },
     "execution_count": 10,
     "metadata": {},
     "output_type": "execute_result"
    }
   ],
   "source": [
    "# Display histogram\n",
    "qiskit.visualization.plot_histogram(counts, figsize=(1, 4))"
   ]
  },
  {
   "cell_type": "markdown",
   "id": "528bb838-76dd-4124-86ab-9fc580a2e7d0",
   "metadata": {},
   "source": [
    "Since this is a constant function it will always return o. "
   ]
  },
  {
   "cell_type": "markdown",
   "id": "eaf26d23-37aa-40a5-a372-e21b665d211f",
   "metadata": {},
   "source": [
    "***"
   ]
  },
  {
   "cell_type": "markdown",
   "id": "10d0f615-7f3c-45e4-baf5-1226d1d36ad5",
   "metadata": {},
   "source": [
    "# Constant One Function"
   ]
  },
  {
   "cell_type": "code",
   "execution_count": 11,
   "id": "85218464-81ef-4ca1-b697-d77931a06853",
   "metadata": {},
   "outputs": [
    {
     "data": {
      "image/png": "[encoded data removed]",
      "text/plain": [
       "<Figure size 589.054x368.424 with 1 Axes>"
      ]
     },
     "execution_count": 11,
     "metadata": {},
     "output_type": "execute_result"
    }
   ],
   "source": [
    "# Create a quantum circuit.\n",
    "circuit = qiskit.QuantumCircuit(2, 1)\n",
    "\n",
    "# Initialise the first qubit to |0>.\n",
    "circuit.initialize([1, 0], 0)\n",
    "\n",
    "# Initialise the second qubit to |1>.\n",
    "circuit.initialize([0, 1], 1)\n",
    "\n",
    "# Apply a Hadamard gate to each qubit.\n",
    "circuit.h((0, 1))\n",
    "\n",
    "# Apply X gate to second qubit.\n",
    "circuit.x(1)\n",
    "\n",
    "# Apply another Hadamard gate to the first qubit.\n",
    "circuit.h(0)\n",
    "\n",
    "# Measure the first qubit.\n",
    "circuit.measure(0, 0)\n",
    "\n",
    "# Draw the circuit.\n",
    "circuit.draw(output='mpl', scale=1.8)"
   ]
  },
  {
   "cell_type": "markdown",
   "id": "211a4d5a-ccfd-4b63-846f-3486a2d79932",
   "metadata": {},
   "source": [
    "\n"
   ]
  },
  {
   "cell_type": "code",
   "execution_count": 12,
   "id": "bc8b6bd8-7d10-4f0f-9a05-f5cee61c9ab4",
   "metadata": {},
   "outputs": [
    {
     "data": {
      "image/png": "[encoded data removed]",
      "text/plain": [
       "<Figure size 72x288 with 1 Axes>"
      ]
     },
     "execution_count": 12,
     "metadata": {},
     "output_type": "execute_result"
    }
   ],
   "source": [
    "# Create a simulation instance.\n",
    "simulator = aer.QasmSimulator()\n",
    "\n",
    "# Compile the circuit in the simluator.\n",
    "compcircuit = qiskit.transpile(circuit, simulator)\n",
    "\n",
    "# Simulate the circuit 1000 times.\n",
    "job = simulator.run(compcircuit, shots=1000)\n",
    "\n",
    "# Get the results.\n",
    "results = job.result()\n",
    "\n",
    "# Show the result counts.\n",
    "counts = results.get_counts()\n",
    "\n",
    "# Display histogram\n",
    "qiskit.visualization.plot_histogram(counts, figsize=(1, 4))"
   ]
  },
  {
   "cell_type": "markdown",
   "id": "e5879f1c-e8e2-420b-a28b-87253a983761",
   "metadata": {},
   "source": [
    "Since this is also a constant function it will always return o. "
   ]
  },
  {
   "cell_type": "markdown",
   "id": "b7bcaa68-ece7-4324-a5ff-8598fc7fcdea",
   "metadata": {},
   "source": [
    "*** "
   ]
  },
  {
   "cell_type": "markdown",
   "id": "be848878-32cf-4c09-9780-134766c0e686",
   "metadata": {},
   "source": [
    "<br>"
   ]
  },
  {
   "cell_type": "markdown",
   "id": "11bc2a36-a4d2-4f8e-a5ea-378359409f84",
   "metadata": {},
   "source": [
    "# Balanced Function: *f*(0)=0, *f*(1)=1"
   ]
  },
  {
   "cell_type": "code",
   "execution_count": 13,
   "id": "16360b05-7b9b-4986-821f-01cdc34f2b4a",
   "metadata": {},
   "outputs": [
    {
     "data": {
      "image/png": "[encoded data removed]",
      "text/plain": [
       "<Figure size 697.414x368.424 with 1 Axes>"
      ]
     },
     "execution_count": 13,
     "metadata": {},
     "output_type": "execute_result"
    }
   ],
   "source": [
    "# Create a quantum circuit.\n",
    "circuit = qiskit.QuantumCircuit(2, 1)\n",
    "\n",
    "# Initialise the first qubit to |0>.\n",
    "circuit.initialize([1, 0], 0)\n",
    "\n",
    "# Initialise the second qubit to |1>.\n",
    "circuit.initialize([0, 1], 1)\n",
    "\n",
    "# Apply a Hadamard gate to each qubit.\n",
    "circuit.h((0, 1))\n",
    "\n",
    "# CNOT gate.\n",
    "circuit.cnot(0, 1)\n",
    "\n",
    "# Apply another Hadamard gate to the first qubit.\n",
    "circuit.h(0)\n",
    "\n",
    "# Measure the first qubit.\n",
    "circuit.measure(0, 0)\n",
    "\n",
    "# Draw the circuit.\n",
    "circuit.draw(output='mpl', scale=1.8)"
   ]
  },
  {
   "cell_type": "code",
   "execution_count": 14,
   "id": "eb93ac47-e8db-4509-8464-7afcc42d3baa",
   "metadata": {},
   "outputs": [
    {
     "data": {
      "image/png": "[encoded data removed]",
      "text/plain": [
       "<Figure size 72x288 with 1 Axes>"
      ]
     },
     "execution_count": 14,
     "metadata": {},
     "output_type": "execute_result"
    }
   ],
   "source": [
    "# Create a simulation instance.\n",
    "simulator = aer.QasmSimulator()\n",
    "\n",
    "# Compile the circuit in the simluator.\n",
    "compcircuit = qiskit.transpile(circuit, simulator)\n",
    "\n",
    "# Simulate the circuit 1000 times.\n",
    "job = simulator.run(compcircuit, shots=1000)\n",
    "\n",
    "# Get the results.\n",
    "results = job.result()\n",
    "\n",
    "# Show the result counts.\n",
    "counts = results.get_counts()\n",
    "\n",
    "# Display histogram\n",
    "qiskit.visualization.plot_histogram(counts, figsize=(1, 4))"
   ]
  },
  {
   "cell_type": "markdown",
   "id": "8f994b33-4720-4f03-bdb7-641a544de8b7",
   "metadata": {},
   "source": [
    "Since this is a balanced function it will always return 1. "
   ]
  },
  {
   "cell_type": "markdown",
   "id": "dfca538b-5cd1-4ccc-8ef5-a4ba43c2c8b8",
   "metadata": {},
   "source": [
    "***"
   ]
  },
  {
   "cell_type": "markdown",
   "id": "2b04378f-6401-49e1-a981-f8ab0b6f7217",
   "metadata": {},
   "source": [
    "<br>"
   ]
  },
  {
   "cell_type": "markdown",
   "id": "f41785a9-1dfe-4a78-9895-a5b7bccfc601",
   "metadata": {},
   "source": [
    "# Balanced Function: *f*(0)=1, *f*(1)=0"
   ]
  },
  {
   "cell_type": "code",
   "execution_count": 15,
   "id": "3d58bb43-bdfd-46e7-b770-fa8576d78367",
   "metadata": {},
   "outputs": [
    {
     "data": {
      "image/png": "[encoded data removed]",
      "text/plain": [
       "<Figure size 697.414x368.424 with 1 Axes>"
      ]
     },
     "execution_count": 15,
     "metadata": {},
     "output_type": "execute_result"
    }
   ],
   "source": [
    "# Create a quantum circuit.\n",
    "circuit = qiskit.QuantumCircuit(2, 1)\n",
    "\n",
    "# Initialise the first qubit to |0>.\n",
    "circuit.initialize([1, 0], 0)\n",
    "\n",
    "# Initialise the second qubit to |1>.\n",
    "circuit.initialize([0, 1], 1)\n",
    "\n",
    "# Apply a Hadamard gate to each qubit.\n",
    "circuit.h((0, 1))\n",
    "\n",
    "# CNOT gate.\n",
    "circuit.cnot(0, 1)\n",
    "\n",
    "# Apply x to second qubit.\n",
    "circuit.x(1)\n",
    "\n",
    "# Apply another Hadamard gate to the first qubit.\n",
    "circuit.h(0)\n",
    "\n",
    "# Measure the first qubit.\n",
    "circuit.measure(0, 0)\n",
    "\n",
    "# Draw the circuit.\n",
    "circuit.draw(output='mpl', scale=1.8)"
   ]
  },
  {
   "cell_type": "code",
   "execution_count": 16,
   "id": "6af16838-aa86-48a3-89a1-9dd0b80205a2",
   "metadata": {},
   "outputs": [
    {
     "data": {
      "image/png": "[encoded data removed]",
      "text/plain": [
       "<Figure size 72x288 with 1 Axes>"
      ]
     },
     "execution_count": 16,
     "metadata": {},
     "output_type": "execute_result"
    }
   ],
   "source": [
    "# Create a simulation instance.\n",
    "simulator = aer.QasmSimulator()\n",
    "\n",
    "# Compile the circuit in the simluator.\n",
    "compcircuit = qiskit.transpile(circuit, simulator)\n",
    "\n",
    "# Simulate the circuit 1000 times.\n",
    "job = simulator.run(compcircuit, shots=1000)\n",
    "\n",
    "# Get the results.\n",
    "results = job.result()\n",
    "\n",
    "# Show the result counts.\n",
    "counts = results.get_counts()\n",
    "\n",
    "# Display histogram\n",
    "qiskit.visualization.plot_histogram(counts, figsize=(1, 4))"
   ]
  },
  {
   "cell_type": "markdown",
   "id": "9a28bafb-7d8e-47d2-816f-7aaa0b89bb22",
   "metadata": {},
   "source": [
    "Since this is a balanced function it will always return 1. "
   ]
  }
 ],
 "metadata": {
  "kernelspec": {
   "display_name": "Python 3 (ipykernel)",
   "language": "python",
   "name": "python3"
  },
  "language_info": {
   "codemirror_mode": {
    "name": "ipython",
    "version": 3
   },
   "file_extension": ".py",
   "mimetype": "text/x-python",
   "name": "python",
   "nbconvert_exporter": "python",
   "pygments_lexer": "ipython3",
   "version": "3.9.7"
  }
 },
 "nbformat": 4,
 "nbformat_minor": 5
}
