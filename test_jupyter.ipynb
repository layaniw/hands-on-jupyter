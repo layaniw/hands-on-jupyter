{
 "cells": [
  {
   "cell_type": "code",
   "execution_count": 2,
   "id": "b6737c04-bbef-494e-96ac-31a7042bec12",
   "metadata": {},
   "outputs": [],
   "source": [
    "i=1\n",
    "j=2\n",
    "k=i+j"
   ]
  },
  {
   "cell_type": "code",
   "execution_count": 3,
   "id": "576e6594-d4b0-49ce-8547-98f63be59e21",
   "metadata": {},
   "outputs": [
    {
     "data": {
      "text/plain": [
       "3"
      ]
     },
     "execution_count": 3,
     "metadata": {},
     "output_type": "execute_result"
    }
   ],
   "source": [
    "k"
   ]
  },
  {
   "attachments": {
    "fdde9297-6edc-4939-af6a-5a973b90d146.png": {
     "image/png": "[encoded data removed]"
    }
   },
   "cell_type": "markdown",
   "id": "1aed9792-328d-4499-85e3-03e1a7106821",
   "metadata": {},
   "source": [
    "# Jupyter Notebook\n",
    "\n",
    "** My first test **\n",
    "\n",
    "- Para 1\n",
    "- Para 2\n",
    "- Para 3\n",
    "\n",
    "![download.png](attachment:fdde9297-6edc-4939-af6a-5a973b90d146.png)\n"
   ]
  },
  {
   "cell_type": "code",
   "execution_count": null,
   "id": "5b84236b-b92f-4b4c-a2ff-1833d88b5222",
   "metadata": {},
   "outputs": [],
   "source": []
  }
 ],
 "metadata": {
  "kernelspec": {
   "display_name": "Python 3",
   "language": "python",
   "name": "python3"
  },
  "language_info": {
   "codemirror_mode": {
    "name": "ipython",
    "version": 3
   },
   "file_extension": ".py",
   "mimetype": "text/x-python",
   "name": "python",
   "nbconvert_exporter": "python",
   "pygments_lexer": "ipython3",
   "version": "3.8.8"
  }
 },
 "nbformat": 4,
 "nbformat_minor": 5
}
