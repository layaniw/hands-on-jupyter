{
 "cells": [
  {
   "cell_type": "markdown",
   "id": "1d2ade7e-baf7-4170-b590-12818fce2232",
   "metadata": {
    "tags": []
   },
   "source": [
    "# Scikit-Learn"
   ]
  },
  {
   "cell_type": "markdown",
   "id": "6a70f74a-2060-4aba-affd-a328e7166127",
   "metadata": {},
   "source": [
    "[Link to Homepage](https://scikit-learn.org/stable/tutorial/index.html)"
   ]
  },
  {
   "attachments": {
    "4e2c829d-b0f2-4126-b7b6-79f7a5c66aa7.jpeg": {
     "image/jpeg": "[encoded data removed]"
    }
   },
   "cell_type": "markdown",
   "id": "dea97c89-9419-4a20-af4c-ea6c90dcee4c",
   "metadata": {},
   "source": [
    "![scikit_image.jpeg](attachment:4e2c829d-b0f2-4126-b7b6-79f7a5c66aa7.jpeg)"
   ]
  },
  {
   "cell_type": "markdown",
   "id": "34547851-9c94-4fa7-9349-8b9570d9c6d2",
   "metadata": {},
   "source": [
    "Scikit-Learn is an open-source python library that facilitates many types of both Supervised and Unsupervised Machine Learning algorithms. It is based on libraries and packages such as NumPy, SciPy, Sympy, Matplotlib, and Pandas.\n",
    "\n",
    "Classification, Regression, Clustering are some of the models of Scikit-Learn used in data modelling.\n",
    "\n",
    "This Jupyter notebook contains a demonstration of the following algorithms."
   ]
  },
  {
   "cell_type": "markdown",
   "id": "fc5fdaca-09ce-4915-8c7c-8c5121998ab1",
   "metadata": {},
   "source": [
    "1. Linear Regression \n",
    "2. Nearest Neighbors Classification \n",
    "3. K-means Clustering"
   ]
  }
 ],
 "metadata": {
  "kernelspec": {
   "display_name": "Python 3",
   "language": "python",
   "name": "python3"
  },
  "language_info": {
   "codemirror_mode": {
    "name": "ipython",
    "version": 3
   },
   "file_extension": ".py",
   "mimetype": "text/x-python",
   "name": "python",
   "nbconvert_exporter": "python",
   "pygments_lexer": "ipython3",
   "version": "3.8.8"
  }
 },
 "nbformat": 4,
 "nbformat_minor": 5
}
